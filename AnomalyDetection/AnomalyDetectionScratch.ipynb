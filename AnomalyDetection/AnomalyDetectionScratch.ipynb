{
 "cells": [
  {
   "cell_type": "markdown",
   "id": "6c6d23cf",
   "metadata": {},
   "source": [
    "Hi! In this code I'm implementing Multivariate Gaussian Distrobution for Anomaly Detection from the scratch!"
   ]
  },
  {
   "cell_type": "markdown",
   "id": "3da52069",
   "metadata": {},
   "source": [
    "**1-** Importing necessary libraries:"
   ]
  },
  {
   "cell_type": "code",
   "execution_count": 1,
   "id": "d041f801",
   "metadata": {},
   "outputs": [],
   "source": [
    "import numpy as np\n",
    "import pandas as pd\n",
    "import matplotlib.pyplot as plt\n",
    "import math\n",
    "import mplcyberpunk                     # An optional library for modernizing matplotlib\n",
    "                                        # install: pip install mplcyberpunk"
   ]
  },
  {
   "cell_type": "markdown",
   "id": "6580281a",
   "metadata": {},
   "source": [
    "**2-** Importing the dataset and separating the data:"
   ]
  },
  {
   "cell_type": "code",
   "execution_count": 2,
   "id": "130f3a20",
   "metadata": {},
   "outputs": [],
   "source": [
    "df = pd.read_csv('AnomalyDetectionDataset.csv')\n",
    "x1 = df.Temperature.values\n",
    "x2 = df.Sales.values\n"
   ]
  },
  {
   "cell_type": "markdown",
   "id": "5e7ac671",
   "metadata": {},
   "source": [
    "**3-** Defining a function for calculating the mean of a vector:"
   ]
  },
  {
   "cell_type": "code",
   "execution_count": 3,
   "id": "55864975",
   "metadata": {},
   "outputs": [],
   "source": [
    "def mu_calculator(m, l):\n",
    "    li = np.array([[0] for i in range(len(l))])\n",
    "    for i in range(len(li)):\n",
    "        li[i] = sum(l[i])\n",
    "    li = li/m\n",
    "    return li\n"
   ]
  },
  {
   "cell_type": "markdown",
   "id": "4e1b84c3",
   "metadata": {},
   "source": [
    "**4-** Defining a function for calculating the **Gaussian Probablity** for each example:"
   ]
  },
  {
   "cell_type": "code",
   "execution_count": 4,
   "id": "dbd998c5",
   "metadata": {},
   "outputs": [],
   "source": [
    "def Gaussian_P(l, mu, cov):\n",
    "    n = len(mu)\n",
    "    cov_det = np.linalg.det(cov)\n",
    "    cov_inv = np.linalg.inv(cov)\n",
    "    \n",
    "    for i in range(n):\n",
    "        l[i] = l[i] - mu[i]\n",
    "\n",
    "    \n",
    "    exp = math.exp(-1/2 * (l.T.dot(cov_inv).dot(l)))\n",
    "    \n",
    "    return (1/(((2 * math.pi) ** n) * math.sqrt(cov_det))) * exp\n"
   ]
  },
  {
   "cell_type": "markdown",
   "id": "4904af34",
   "metadata": {},
   "source": [
    "**5-** Calculating the mean of the vectors and the covariance matrix:"
   ]
  },
  {
   "cell_type": "code",
   "execution_count": 5,
   "id": "f1e3ce41",
   "metadata": {},
   "outputs": [],
   "source": [
    "mu = mu_calculator(25, np.array([x1, x2]))\n",
    "stacked = np.stack((x1, x2), axis=0)\n",
    "cov = np.cov(stacked)\n"
   ]
  },
  {
   "cell_type": "markdown",
   "id": "4a9c82be",
   "metadata": {},
   "source": [
    "**6-** Calculating the **Gaussian Probablity** for a set of example:\n",
    "(with the mean and the covariance matrix of the previous data)"
   ]
  },
  {
   "cell_type": "code",
   "execution_count": 6,
   "id": "f45989ba",
   "metadata": {},
   "outputs": [],
   "source": [
    "x = np.linspace(x1.min()-0.5,x1.max()+0.5,25)\n",
    "y = np.linspace(x2.min()-10,x2.max()+10,25)\n",
    "X, Y = np.meshgrid(x, y)\n",
    "\n",
    "first_index_y = True\n",
    "first_index_x = True\n",
    "\n",
    "for i in x:\n",
    "    for j in y:\n",
    "        if(first_index_y):\n",
    "            temp_y = Gaussian_P(np.array([i, j]), mu, cov)\n",
    "            first_index_y = False\n",
    "        else:\n",
    "            temp_y = np.vstack((temp_y,Gaussian_P(np.array([i, j]), mu, cov)))\n",
    "    first_index_y = True\n",
    "    if(first_index_x):\n",
    "        z = temp_y\n",
    "        first_index_x = False\n",
    "    else:\n",
    "        z = np.hstack((z, temp_y))\n",
    "        \n",
    "# z will have the shape of (25,25) since we stack vertically and then horizontally"
   ]
  },
  {
   "cell_type": "markdown",
   "id": "3950f365",
   "metadata": {},
   "source": [
    "**7-** Plotting a contour map based on the Gaussian Probablity of the data:"
   ]
  },
  {
   "cell_type": "code",
   "execution_count": 7,
   "id": "d4fe80e8",
   "metadata": {},
   "outputs": [
    {
     "data": {
      "image/png": "[encoded data removed]",
      "text/plain": [
       "<Figure size 432x288 with 1 Axes>"
      ]
     },
     "metadata": {
      "needs_background": "dark"
     },
     "output_type": "display_data"
    }
   ],
   "source": [
    "plt.style.use('cyberpunk')\n",
    "plt.contourf(X,Y,z,cmap=plt.cm.PuBu_r)\n",
    "plt.axis('off')\n",
    "plt.scatter(x1,x2,c='red',s=30)\n",
    "plt.text(14.0,476,\"<- Anomaly!\",c='white')\n",
    "mplcyberpunk.make_scatter_glow()\n",
    "plt.show()\n"
   ]
  },
  {
   "cell_type": "markdown",
   "id": "471fb2bd",
   "metadata": {},
   "source": [
    "**8-** Evaluating the Gaussian Probablity for two examples of the dataset:"
   ]
  },
  {
   "cell_type": "code",
   "execution_count": 8,
   "id": "adc745ad",
   "metadata": {},
   "outputs": [
    {
     "name": "stdout",
     "output_type": "stream",
     "text": [
      "Normal example  : 0.0005279422954011893\n",
      "Anomaly example : 3.17666693338128e-07\n"
     ]
    }
   ],
   "source": [
    "print(f'Normal example  : {Gaussian_P(np.array([17.4,418]), mu, cov)}') #normal\n",
    "print(f'Anomaly example : {Gaussian_P(np.array([13.8,477]), mu, cov)}') #anomaly\n"
   ]
  },
  {
   "cell_type": "markdown",
   "id": "22e6c7eb",
   "metadata": {},
   "source": [
    "**9-** Diagnosing the anamolous examples with a custom Epsilon parameter:"
   ]
  },
  {
   "cell_type": "code",
   "execution_count": 9,
   "id": "675be939",
   "metadata": {},
   "outputs": [],
   "source": [
    "anomaly_x = []\n",
    "anomaly_y = []\n",
    "normal_x = []\n",
    "normal_y = []\n",
    "epsilon = 0.0001\n",
    "for i, j in zip(x1, x2):\n",
    "    if(Gaussian_P(np.array([i, j]), mu, cov) < epsilon):\n",
    "        anomaly_x.append(i)\n",
    "        anomaly_y.append(j)\n",
    "    else:\n",
    "        normal_x.append(i)\n",
    "        normal_y.append(j)\n",
    "        "
   ]
  },
  {
   "cell_type": "markdown",
   "id": "e7435666",
   "metadata": {},
   "source": [
    "**10-** Visualizing the final output:"
   ]
  },
  {
   "cell_type": "code",
   "execution_count": 10,
   "id": "9af8bac7",
   "metadata": {},
   "outputs": [
    {
     "data": {
      "image/png": "[encoded data removed]",
      "text/plain": [
       "<Figure size 432x288 with 1 Axes>"
      ]
     },
     "metadata": {
      "needs_background": "dark"
     },
     "output_type": "display_data"
    }
   ],
   "source": [
    "plt.contourf(X,Y,z,cmap=plt.cm.PuBu_r)\n",
    "plt.axis('off')\n",
    "anomaly = plt.scatter(anomaly_x,anomaly_y,c='red',s=30)\n",
    "mplcyberpunk.make_scatter_glow()\n",
    "normal = plt.scatter(normal_x,normal_y,c='blue',s=30)\n",
    "mplcyberpunk.make_scatter_glow()\n",
    "\n",
    "plt.legend((anomaly,normal),['Anomaly','Normal'],loc='upper right',frameon=True)\n",
    "plt.show()"
   ]
  }
 ],
 "metadata": {
  "kernelspec": {
   "display_name": "Python 3 (ipykernel)",
   "language": "python",
   "name": "python3"
  },
  "language_info": {
   "codemirror_mode": {
    "name": "ipython",
    "version": 3
   },
   "file_extension": ".py",
   "mimetype": "text/x-python",
   "name": "python",
   "nbconvert_exporter": "python",
   "pygments_lexer": "ipython3",
   "version": "3.10.6"
  },
  "vscode": {
   "interpreter": {
    "hash": "916dbcbb3f70747c44a77c7bcd40155683ae19c65e1c03b4aa3499c5328201f1"
   }
  }
 },
 "nbformat": 4,
 "nbformat_minor": 5
}
